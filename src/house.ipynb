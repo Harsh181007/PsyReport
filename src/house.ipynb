{
 "cells": [
  {
   "cell_type": "code",
   "execution_count": 2,
   "metadata": {},
   "outputs": [],
   "source": [
    "import numpy as np\n",
    "import torch\n",
    "from torch import nn\n",
    "import pandas as pd\n",
    "from torch.utils.data import DataLoader\n",
    "from torchvision import models, transforms\n",
    "from doodleLoaderSimple import DoodleDatasetSimple\n",
    "from matplotlib import pyplot as plt\n",
    "import seaborn as sns\n",
    "from scipy.stats import chi2_contingency\n",
    "from sklearn.decomposition import PCA\n",
    "from sklearn.manifold import TSNE\n",
    "import umap\n",
    "from sklearn.metrics import accuracy_score, precision_score, recall_score, f1_score\n"
   ]
  },
  {
   "cell_type": "markdown",
   "metadata": {},
   "source": [
    "## Training and validation for the house image classifier"
   ]
  },
  {
   "cell_type": "code",
   "execution_count": 3,
   "metadata": {},
   "outputs": [
    {
     "name": "stdout",
     "output_type": "stream",
     "text": [
      "   id  class\n",
      "0   0      0\n",
      "1   1      1\n",
      "2   2      2\n",
      "3   3      0\n",
      "4   4      1\n"
     ]
    },
    {
     "data": {
      "text/html": [
       "<div>\n",
       "<style scoped>\n",
       "    .dataframe tbody tr th:only-of-type {\n",
       "        vertical-align: middle;\n",
       "    }\n",
       "\n",
       "    .dataframe tbody tr th {\n",
       "        vertical-align: top;\n",
       "    }\n",
       "\n",
       "    .dataframe thead th {\n",
       "        text-align: right;\n",
       "    }\n",
       "</style>\n",
       "<table border=\"1\" class=\"dataframe\">\n",
       "  <thead>\n",
       "    <tr style=\"text-align: right;\">\n",
       "      <th></th>\n",
       "      <th>id</th>\n",
       "      <th>class</th>\n",
       "      <th>class_label</th>\n",
       "    </tr>\n",
       "  </thead>\n",
       "  <tbody>\n",
       "    <tr>\n",
       "      <th>0</th>\n",
       "      <td>0</td>\n",
       "      <td>0</td>\n",
       "      <td>Stress/Anxiety</td>\n",
       "    </tr>\n",
       "    <tr>\n",
       "      <th>1</th>\n",
       "      <td>1</td>\n",
       "      <td>1</td>\n",
       "      <td>Low self-esteem/Introvert/Withdrawn</td>\n",
       "    </tr>\n",
       "    <tr>\n",
       "      <th>2</th>\n",
       "      <td>2</td>\n",
       "      <td>2</td>\n",
       "      <td>High self-esteem/Extrovert/Fantasizing</td>\n",
       "    </tr>\n",
       "    <tr>\n",
       "      <th>3</th>\n",
       "      <td>3</td>\n",
       "      <td>0</td>\n",
       "      <td>Stress/Anxiety</td>\n",
       "    </tr>\n",
       "    <tr>\n",
       "      <th>4</th>\n",
       "      <td>4</td>\n",
       "      <td>1</td>\n",
       "      <td>Low self-esteem/Introvert/Withdrawn</td>\n",
       "    </tr>\n",
       "  </tbody>\n",
       "</table>\n",
       "</div>"
      ],
      "text/plain": [
       "   id  class                             class_label\n",
       "0   0      0                          Stress/Anxiety\n",
       "1   1      1     Low self-esteem/Introvert/Withdrawn\n",
       "2   2      2  High self-esteem/Extrovert/Fantasizing\n",
       "3   3      0                          Stress/Anxiety\n",
       "4   4      1     Low self-esteem/Introvert/Withdrawn"
      ]
     },
     "execution_count": 3,
     "metadata": {},
     "output_type": "execute_result"
    }
   ],
   "source": [
    "class_dict = {\n",
    "    0: 'Stress/Anxiety',\n",
    "    1: 'Low self-esteem/Introvert/Withdrawn',\n",
    "    2: 'High self-esteem/Extrovert/Fantasizing'\n",
    "}\n",
    "\n",
    "data = np.genfromtxt('D:/COLLEGE_STUDIES/SEM-6/ML_NLP_project/data/houseData.csv', dtype=int, delimiter=',', names=True)\n",
    "\n",
    "df = pd.DataFrame(data)\n",
    "\n",
    "print(df.head())\n",
    "\n",
    "df['class_label'] = df['class'].map(class_dict)\n",
    "df.head()"
   ]
  },
  {
   "cell_type": "code",
   "execution_count": 4,
   "metadata": {},
   "outputs": [
    {
     "name": "stdout",
     "output_type": "stream",
     "text": [
      "Missing values:\n",
      " id             0\n",
      "class          0\n",
      "class_label    3\n",
      "dtype: int64\n",
      "\n",
      "Duplicate rows: 540\n",
      "   id  class                             class_label\n",
      "0   0      0                          Stress/Anxiety\n",
      "1   1      1     Low self-esteem/Introvert/Withdrawn\n",
      "2   2      2  High self-esteem/Extrovert/Fantasizing\n",
      "3   3      0                          Stress/Anxiety\n",
      "4   4      1     Low self-esteem/Introvert/Withdrawn\n"
     ]
    }
   ],
   "source": [
    "print(\"Missing values:\\n\", df.isnull().sum())\n",
    "\n",
    "print(\"\\nDuplicate rows:\", df.duplicated().sum())\n",
    "\n",
    "df = df.drop_duplicates()\n",
    "\n",
    "df['class_label'] = df['class'].map(class_dict)\n",
    "\n",
    "print(df.head())"
   ]
  },
  {
   "cell_type": "code",
   "execution_count": 5,
   "metadata": {},
   "outputs": [
    {
     "name": "stderr",
     "output_type": "stream",
     "text": [
      "C:\\Users\\karti\\AppData\\Local\\Temp\\ipykernel_16808\\2055955119.py:2: FutureWarning: \n",
      "\n",
      "Passing `palette` without assigning `hue` is deprecated and will be removed in v0.14.0. Assign the `x` variable to `hue` and set `legend=False` for the same effect.\n",
      "\n",
      "  sns.countplot(x='class_label', data=df, palette='viridis')\n"
     ]
    },
    {
     "data": {
      "image/png": "[encoded data removed]",
      "text/plain": [
       "<Figure size 1100x300 with 1 Axes>"
      ]
     },
     "metadata": {},
     "output_type": "display_data"
    }
   ],
   "source": [
    "plt.figure(figsize=(11, 3))\n",
    "sns.countplot(x='class_label', data=df, palette='viridis')\n",
    "plt.title(\"Class Distribution\")\n",
    "plt.xlabel(\"Psychological Traits\")\n",
    "plt.ylabel(\"Count\")\n",
    "plt.show()\n"
   ]
  },
  {
   "cell_type": "code",
   "execution_count": 6,
   "metadata": {},
   "outputs": [
    {
     "data": {
      "image/png": "[encoded data removed]",
      "text/plain": [
       "<Figure size 300x300 with 1 Axes>"
      ]
     },
     "metadata": {},
     "output_type": "display_data"
    }
   ],
   "source": [
    "plt.figure(figsize=(3,3))\n",
    "df['class_label'].value_counts().plot.pie(autopct='%1.1f%%', colors=['red', 'blue', 'green'])\n",
    "plt.title(\"Class Distribution in Dataset\")\n",
    "plt.ylabel(\"\")\n",
    "plt.show()\n"
   ]
  },
  {
   "cell_type": "code",
   "execution_count": 29,
   "metadata": {},
   "outputs": [
    {
     "name": "stdout",
     "output_type": "stream",
     "text": [
      "Class value counts:\n",
      " class_label\n",
      "Low self-esteem/Introvert/Withdrawn       186\n",
      "Stress/Anxiety                            184\n",
      "High self-esteem/Extrovert/Fantasizing    168\n",
      "Name: count, dtype: int64\n",
      "\n",
      "Class mean:\n",
      " 0.9666048237476809\n",
      "\n",
      "Class median:\n",
      " 1.0\n",
      "\n",
      "Class mode:\n",
      " 1\n"
     ]
    }
   ],
   "source": [
    "print(\"Class value counts:\\n\", df['class_label'].value_counts())\n",
    "print(\"\\nClass mean:\\n\", df['class'].mean())\n",
    "print(\"\\nClass median:\\n\", df['class'].median())\n",
    "print(\"\\nClass mode:\\n\", df['class'].mode()[0])\n"
   ]
  },
  {
   "cell_type": "code",
   "execution_count": 38,
   "metadata": {},
   "outputs": [],
   "source": [
    "def count_classes(dictClass, arr):\n",
    "    \"\"\"\n",
    "    Redundant method that counts the occurrences of each class in the dataset\n",
    "    Can be used to create weights if the class distribution is unbalanced\n",
    "    :param dictClass: Dictionary that maps number to class labels\n",
    "    :param arr: The array that contains the data\n",
    "    :return: The number of occurrences for each class in the given array\n",
    "    \"\"\"\n",
    "    unique, count = numpy.unique(arr, return_counts=True)\n",
    "    print(dict(zip(dictClass.values(), count)))\n",
    "    count = 1 / count\n",
    "    count = count / sum(count)\n",
    "    return count"
   ]
  },
  {
   "cell_type": "code",
   "execution_count": 39,
   "metadata": {},
   "outputs": [],
   "source": [
    "# Match the image IDs to the ID values in the .csv file.\n",
    "translation_dict = dict( zip([f'{id}.png' for id in data['id']], data['class']))\n",
    "\n",
    "# Prepare each image to be passed as a Tensor product to the model.\n",
    "data_transforms = transforms.Compose([\n",
    "    transforms.ToTensor(),\n",
    "    transforms.Normalize((0.5, 0.5, 0.5), (0.5, 0.5, 0.5))\n",
    "])\n",
    "\n",
    "# Prepare the data by matching it to its label and transforming it to a Tensor product.\n",
    "housedata = DoodleDatasetSimple(r'D:\\\\COLLEGE_STUDIES\\\\SEM-6\\\\ML_NLP_project\\\\images\\\\house\\\\', data_transforms, translation_dict)\n"
   ]
  },
  {
   "cell_type": "code",
   "execution_count": null,
   "metadata": {},
   "outputs": [],
   "source": [
    "train_len = int(housedata.__len__() * 0.8)\n",
    "\n",
    "test_len = int(housedata.__len__() * 0.2 + 1)\n",
    "\n",
    "train_set, val_set = torch.utils.data.random_split(housedata, [train_len, test_len])\n",
    "\n",
    "train_loader = DataLoader(train_set, batch_size=4, shuffle=True, num_workers=0, drop_last=True)\n",
    "\n",
    "test_loader = DataLoader(val_set, batch_size=4, shuffle=False, num_workers=0, drop_last=True)"
   ]
  },
  {
   "cell_type": "markdown",
   "metadata": {},
   "source": [
    "## Model Definition"
   ]
  },
  {
   "cell_type": "code",
   "execution_count": 41,
   "metadata": {},
   "outputs": [],
   "source": [
    "class MultilabelClassifier(nn.Module):\n",
    "    \"\"\"\n",
    "    Class that contains the layers for the model.\n",
    "    Starting model ResNet-34, replace last layer with a Linear layer that outputs\n",
    "    a single number, the label of the image.\n",
    "    \"\"\"\n",
    "    def __init__(self, n_features):\n",
    "        super().__init__()\n",
    "        self.resnet = models.resnet34(pretrained=True)\n",
    "        self.model_wo_fc = nn.Sequential(*(list(self.resnet.children())[:-1]))\n",
    "\n",
    "        self.imageClass = nn.Sequential(\n",
    "            nn.Dropout(p=0.2),\n",
    "            nn.Linear(in_features=512, out_features=n_features)\n",
    "        )\n",
    "\n",
    "    def forward(self, x):\n",
    "        x = self.model_wo_fc(x)\n",
    "        x = torch.flatten(x, 1)\n",
    "\n",
    "        return {\n",
    "            'class': self.imageClass(x)\n",
    "        }\n",
    "    \n",
    "\n"
   ]
  },
  {
   "cell_type": "code",
   "execution_count": null,
   "metadata": {},
   "outputs": [
    {
     "name": "stderr",
     "output_type": "stream",
     "text": [
      "c:\\Users\\karti\\AppData\\Local\\Programs\\Python\\Python310\\lib\\site-packages\\torchvision\\models\\_utils.py:208: UserWarning: The parameter 'pretrained' is deprecated since 0.13 and may be removed in the future, please use 'weights' instead.\n",
      "  warnings.warn(\n",
      "c:\\Users\\karti\\AppData\\Local\\Programs\\Python\\Python310\\lib\\site-packages\\torchvision\\models\\_utils.py:223: UserWarning: Arguments other than a weight enum or `None` for 'weights' are deprecated since 0.13 and may be removed in the future. The current behavior is equivalent to passing `weights=ResNet34_Weights.IMAGENET1K_V1`. You can also use `weights=ResNet34_Weights.DEFAULT` to get the most up-to-date weights.\n",
      "  warnings.warn(msg)\n"
     ]
    }
   ],
   "source": [
    "device = torch.device('cuda' if torch.cuda.is_available() else 'cpu')\n",
    "model = MultilabelClassifier(3).to(device)\n"
   ]
  },
  {
   "cell_type": "code",
   "execution_count": 43,
   "metadata": {},
   "outputs": [],
   "source": [
    "def criterion(outputs, pictures):\n",
    "    \"\"\"\n",
    "    Method used by the model as the criterion for training.\n",
    "    Cross entropy loss used as the loss function\n",
    "    :param outputs: Predicted labels by the model\n",
    "    :param pictures: Actual labeled images from the dataset\n",
    "    :return: The sum of the cross entropy loss function.\n",
    "    \"\"\"\n",
    "    losses = 0\n",
    "\n",
    "    for i, key in enumerate(outputs):\n",
    "        loss_func = nn.CrossEntropyLoss()\n",
    "        labelsTensor = pictures['class'].clone().detach()\n",
    "        losses += loss_func(outputs[key], labelsTensor.long().to(device))\n",
    "\n",
    "    return losses\n"
   ]
  },
  {
   "cell_type": "code",
   "execution_count": null,
   "metadata": {},
   "outputs": [],
   "source": [
    "def training(model, device, lr_rate, epochs, train_loader):\n",
    "    \"\"\"\n",
    "    Method used by the model for training\n",
    "    :param model: The model to train\n",
    "    :param device: Which device to use for computation, GPU or CPU\n",
    "    :param lr_rate: The learning rate used by the optimizing function\n",
    "    :param epochs: How many epochs to train the model for\n",
    "    :param train_loader: The loader that provides the labeled images in batches\n",
    "    :return: An array containing the losses after each epoch\n",
    "    \"\"\"\n",
    "    num_epochs = epochs\n",
    "    losses = []\n",
    "    checkpoint_losses = []\n",
    "\n",
    "    optimizer = torch.optim.Adam(model.parameters(), lr=lr_rate)\n",
    "    n_total_steps = len(train_loader)\n",
    "\n",
    "    for epoch in range(num_epochs):\n",
    "        for i, pictures in enumerate(train_loader):\n",
    "            images = pictures['image'].to(device)\n",
    "\n",
    "            output = model(images)\n",
    "\n",
    "            loss = criterion(output, pictures)\n",
    "            losses.append(loss.item())\n",
    "            \n",
    "            optimizer.zero_grad()\n",
    "            loss.backward()\n",
    "            optimizer.step()\n",
    "\n",
    "            if (i + 1) % (int(n_total_steps / 1)) == 0:\n",
    "                checkpoint_loss = torch.tensor(losses).mean().item()\n",
    "                checkpoint_losses.append(checkpoint_loss)\n",
    "                print(f'Epoch [{epoch + 1}/{num_epochs}], Step [{i + 1}/{n_total_steps}], Loss: {checkpoint_loss:.4f}')\n",
    "\n",
    "    # Save the model in appropriate directory\n",
    "    model_save_path = r'D:\\COLLEGE_STUDIES\\SEM-6\\ML_NLP_project\\model\\house\\house_model_12.tar'\n",
    "    torch.save({\n",
    "        'model_state_dict': model.state_dict(),\n",
    "        'optimizer_state_dict': optimizer.state_dict(),\n",
    "        'loss': checkpoint_losses,\n",
    "    }, model_save_path)\n",
    "\n",
    "\n",
    "\n",
    "    return checkpoint_losses\n"
   ]
  },
  {
   "cell_type": "code",
   "execution_count": 45,
   "metadata": {},
   "outputs": [
    {
     "name": "stdout",
     "output_type": "stream",
     "text": [
      "Epoch [1/12], Step [107/107], Loss: 0.4728\n",
      "Epoch [2/12], Step [107/107], Loss: 0.3842\n",
      "Epoch [3/12], Step [107/107], Loss: 0.2925\n",
      "Epoch [4/12], Step [107/107], Loss: 0.2659\n",
      "Epoch [5/12], Step [107/107], Loss: 0.2359\n",
      "Epoch [6/12], Step [107/107], Loss: 0.2128\n",
      "Epoch [7/12], Step [107/107], Loss: 0.2005\n",
      "Epoch [8/12], Step [107/107], Loss: 0.1880\n",
      "Epoch [9/12], Step [107/107], Loss: 0.1734\n",
      "Epoch [10/12], Step [107/107], Loss: 0.1581\n",
      "Epoch [11/12], Step [107/107], Loss: 0.1600\n",
      "Epoch [12/12], Step [107/107], Loss: 0.1538\n"
     ]
    }
   ],
   "source": [
    "# Call the method to train the model\n",
    "checkpoint_losses = training(model, device, 0.0001, 12, train_loader)\n"
   ]
  },
  {
   "cell_type": "code",
   "execution_count": 46,
   "metadata": {},
   "outputs": [
    {
     "data": {
      "image/png": "[encoded data removed]",
      "text/plain": [
       "<Figure size 640x480 with 1 Axes>"
      ]
     },
     "metadata": {},
     "output_type": "display_data"
    }
   ],
   "source": [
    "plt.plot(checkpoint_losses, linestyle='-', color='b', label='Training Loss')\n",
    "plt.xlabel('Epochs')\n",
    "plt.ylabel('Loss')\n",
    "plt.title('Training Loss Curve')\n",
    "plt.legend()\n",
    "plt.grid(True)\n",
    "plt.show()"
   ]
  },
  {
   "cell_type": "code",
   "execution_count": null,
   "metadata": {},
   "outputs": [],
   "source": [
    "def validation(model, dataloader, device):\n",
    "    \"\"\"\n",
    "    Validates the model after training.\n",
    "\n",
    "    :param model: The trained model.\n",
    "    :param dataloader: Dataloader providing labeled images in batches.\n",
    "    :param device: Device (CPU or GPU) for computation.\n",
    "    :return: Model accuracy in percentage.\n",
    "    \"\"\"\n",
    "    model.eval()  # Set model to evaluation mode\n",
    "    n_correct = 0\n",
    "    n_samples = 0\n",
    "\n",
    "    with torch.no_grad():\n",
    "        for pictures in dataloader:\n",
    "            images = pictures['image'].to(device)\n",
    "            labels = pictures['class'].to(device)\n",
    "\n",
    "            outputs = model(images)['class']  \n",
    "            _, predicted = torch.max(outputs, 1)  \n",
    "\n",
    "            n_correct += (predicted == labels).sum().item()\n",
    "            n_samples += labels.size(0)\n",
    "\n",
    "    acc = 100.0 * n_correct / n_samples if n_samples > 0 else 0.0  \n",
    "    print(f\"Validation Accuracy: {acc:.2f}%\")\n",
    "    \n",
    "    return acc\n"
   ]
  },
  {
   "cell_type": "code",
   "execution_count": null,
   "metadata": {},
   "outputs": [
    {
     "name": "stdout",
     "output_type": "stream",
     "text": [
      "Validation Accuracy: 99.07%\n"
     ]
    }
   ],
   "source": [
    "device = torch.device(\"cuda\" if torch.cuda.is_available() else \"cpu\")  \n",
    "model.to(device)  \n",
    "\n",
    "accuracy = validation(model, test_loader, device)"
   ]
  },
  {
   "cell_type": "code",
   "execution_count": null,
   "metadata": {},
   "outputs": [
    {
     "name": "stdout",
     "output_type": "stream",
     "text": [
      "Sample y_true: [np.int64(0), np.int64(1), np.int64(1), np.int64(0), np.int64(1), np.int64(1), np.int64(1), np.int64(2), np.int64(2), np.int64(2)]\n",
      "Sample y_pred: [np.int64(0), np.int64(1), np.int64(1), np.int64(0), np.int64(1), np.int64(1), np.int64(1), np.int64(2), np.int64(2), np.int64(2)]\n",
      "Accuracy: 0.9907\n",
      "Precision: 0.9910\n",
      "Recall: 0.9907\n",
      "F1 Score: 0.9907\n"
     ]
    }
   ],
   "source": [
    "y_true = []  \n",
    "y_pred = []  \n",
    "\n",
    "model.eval()\n",
    "with torch.no_grad():\n",
    "    for pictures in test_loader:\n",
    "        images = pictures['image'].to(device)\n",
    "        labels = pictures['class'].to(device)\n",
    "\n",
    "        outputs = model(images)['class']  \n",
    "        _, predicted = torch.max(outputs, 1) \n",
    "\n",
    "        y_true.extend(labels.cpu().numpy())\n",
    "        y_pred.extend(predicted.cpu().numpy())\n",
    "\n",
    "# Compute metrics\n",
    "accuracy = accuracy_score(y_true, y_pred)\n",
    "precision = precision_score(y_true, y_pred, average=\"weighted\")\n",
    "recall = recall_score(y_true, y_pred, average=\"weighted\")\n",
    "f1 = f1_score(y_true, y_pred, average=\"weighted\")\n",
    "\n",
    "\n",
    "print(\"Sample y_true:\", y_true[:10]) \n",
    "print(\"Sample y_pred:\", y_pred[:10])  \n",
    "\n",
    "print(f\"Accuracy: {accuracy:.4f}\")\n",
    "print(f\"Precision: {precision:.4f}\")\n",
    "print(f\"Recall: {recall:.4f}\")\n",
    "print(f\"F1 Score: {f1:.4f}\")\n"
   ]
  },
  {
   "cell_type": "code",
   "execution_count": null,
   "metadata": {},
   "outputs": [],
   "source": []
  }
 ],
 "metadata": {
  "kernelspec": {
   "display_name": "Python 3",
   "language": "python",
   "name": "python3"
  },
  "language_info": {
   "codemirror_mode": {
    "name": "ipython",
    "version": 3
   },
   "file_extension": ".py",
   "mimetype": "text/x-python",
   "name": "python",
   "nbconvert_exporter": "python",
   "pygments_lexer": "ipython3",
   "version": "3.10.0"
  }
 },
 "nbformat": 4,
 "nbformat_minor": 2
}
