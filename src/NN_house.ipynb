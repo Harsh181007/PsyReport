{
 "cells": [
  {
   "cell_type": "code",
   "execution_count": 2,
   "metadata": {},
   "outputs": [],
   "source": [
    "import numpy\n",
    "import numpy as np\n",
    "import torch\n",
    "from torch import nn\n",
    "from torch.utils.data import DataLoader\n",
    "from torchvision import models, transforms\n",
    "from doodleLoaderSimple import DoodleDatasetSimple\n",
    "from matplotlib import pyplot as plt"
   ]
  },
  {
   "cell_type": "markdown",
   "metadata": {},
   "source": [
    "## Training and validation for the house image classifier"
   ]
  },
  {
   "cell_type": "code",
   "execution_count": 3,
   "metadata": {},
   "outputs": [
    {
     "name": "stdout",
     "output_type": "stream",
     "text": [
      "[(0, 0) (1, 1) (2, 2) (3, 0) (4, 1)]\n"
     ]
    }
   ],
   "source": [
    "# Number to class labels mapping\n",
    "class_dict = {\n",
    "    0: 'stress',\n",
    "    1: 'introvert',\n",
    "    2: 'extrovert'\n",
    "}\n",
    "\n",
    "# Loading the data from the .csv file\n",
    "# First row is a header\n",
    "data = np.genfromtxt(r'D:\\COLLEGE_STUDIES\\SEM-6\\ML_NLP_project\\data\\houseData.csv', dtype=int, delimiter=',', names=True)\n",
    "\n",
    "print(data[:5]) "
   ]
  },
  {
   "cell_type": "code",
   "execution_count": 4,
   "metadata": {},
   "outputs": [],
   "source": [
    "# # Visualization: Plot the distribution of classes\n",
    "# def plot_class_distribution(translation_dict):\n",
    "#     \"\"\"\n",
    "#     Plots the distribution of class labels in the dataset.\n",
    "    \n",
    "#     :param translation_dict: Dictionary mapping image filenames to class labels.\n",
    "#     \"\"\"\n",
    "#     class_counts = np.bincount(list(translation_dict.values()))  # Count occurrences of each class\n",
    "#     class_labels = [class_dict[i] for i in range(len(class_counts))]  # Get class names\n",
    "    \n",
    "#     plt.figure(figsize=(4, 3))\n",
    "#     plt.bar(class_labels, class_counts, color=['red', 'blue', 'green'])\n",
    "#     plt.xlabel(\"Class Labels\")\n",
    "#     plt.ylabel(\"Number of Images\")\n",
    "#     plt.title(\"Class Distribution in Dataset\")\n",
    "#     plt.show()\n",
    "\n",
    "# # Call the function to visualize the dataset distribution\n",
    "# plot_class_distribution(translation_dict)"
   ]
  },
  {
   "cell_type": "code",
   "execution_count": 5,
   "metadata": {},
   "outputs": [],
   "source": [
    "def count_classes(dictClass, arr):\n",
    "    \"\"\"\n",
    "    Redundant method that counts the occurrences of each class in the dataset\n",
    "    Can be used to create weights if the class distribution is unbalanced\n",
    "    :param dictClass: Dictionary that maps number to class labels\n",
    "    :param arr: The array that contains the data\n",
    "    :return: The number of occurrences for each class in the given array\n",
    "    \"\"\"\n",
    "    unique, count = numpy.unique(arr, return_counts=True)\n",
    "    print(dict(zip(dictClass.values(), count)))\n",
    "    count = 1 / count\n",
    "    count = count / sum(count)\n",
    "    return count"
   ]
  },
  {
   "cell_type": "code",
   "execution_count": 6,
   "metadata": {},
   "outputs": [],
   "source": [
    "# Match the image IDs to the ID values in the .csv file.\n",
    "translation_dict = dict( zip([f'{id}.png' for id in data['id']], data['class']))\n",
    "\n",
    "# Prepare each image to be passed as a Tensor product to the model.\n",
    "data_transforms = transforms.Compose([\n",
    "    transforms.ToTensor(),\n",
    "    transforms.Normalize((0.5, 0.5, 0.5), (0.5, 0.5, 0.5))\n",
    "])\n",
    "\n",
    "# Prepare the data by matching it to its label and transforming it to a Tensor product.\n",
    "housedata = DoodleDatasetSimple(r'D:\\\\COLLEGE_STUDIES\\\\SEM-6\\\\ML_NLP_project\\\\images\\\\house\\\\', data_transforms, translation_dict)\n"
   ]
  },
  {
   "cell_type": "code",
   "execution_count": 7,
   "metadata": {},
   "outputs": [],
   "source": [
    "# 80% of the data for training.\n",
    "train_len = int(housedata.__len__() * 0.8)\n",
    "# 20% of the data for validation.\n",
    "test_len = int(housedata.__len__() * 0.2 + 1)\n",
    "# Split the data at a random point.\n",
    "train_set, val_set = torch.utils.data.random_split(housedata, [train_len, test_len])\n",
    "# Shuffle and load the labeled images in batches of 4 for training.\n",
    "train_loader = DataLoader(train_set, batch_size=4, shuffle=True, num_workers=0, drop_last=True)\n",
    "# Load the labeled images in batches of 4 for validation after training the model.\n",
    "test_loader = DataLoader(val_set, batch_size=4, shuffle=False, num_workers=0, drop_last=True)\n"
   ]
  },
  {
   "cell_type": "markdown",
   "metadata": {},
   "source": [
    "## Model Definition"
   ]
  },
  {
   "cell_type": "code",
   "execution_count": 8,
   "metadata": {},
   "outputs": [],
   "source": [
    "class MultilabelClassifier(nn.Module):\n",
    "    def __init__(self, n_features):\n",
    "        super(MultilabelClassifier, self).__init__()\n",
    "\n",
    "        self.feature_extractor = nn.Sequential(\n",
    "            nn.Conv2d(3, 64, kernel_size=3, stride=1, padding=1),\n",
    "            nn.BatchNorm2d(64),\n",
    "            nn.ReLU(),\n",
    "            nn.MaxPool2d(kernel_size=2, stride=2),\n",
    "\n",
    "            nn.Conv2d(64, 128, kernel_size=3, stride=1, padding=1),\n",
    "            nn.BatchNorm2d(128),\n",
    "            nn.ReLU(),\n",
    "            nn.MaxPool2d(kernel_size=2, stride=2),\n",
    "\n",
    "            nn.Conv2d(128, 256, kernel_size=3, stride=1, padding=1),\n",
    "            nn.BatchNorm2d(256),\n",
    "            nn.ReLU(),\n",
    "            nn.MaxPool2d(kernel_size=2, stride=2),\n",
    "\n",
    "            nn.Conv2d(256, 512, kernel_size=3, stride=1, padding=1),\n",
    "            nn.BatchNorm2d(512),\n",
    "            nn.ReLU(),\n",
    "            nn.MaxPool2d(kernel_size=2, stride=2),\n",
    "\n",
    "            nn.AdaptiveAvgPool2d((1, 1))\n",
    "        )\n",
    "\n",
    "        self.classifier = nn.Sequential(\n",
    "            nn.Dropout(0.2),\n",
    "            nn.Linear(512, n_features)\n",
    "        )\n",
    "\n",
    "    def forward(self, x):\n",
    "        x = self.feature_extractor(x)\n",
    "        x = torch.flatten(x, 1)\n",
    "        x = self.classifier(x)\n",
    "        return x  # Output tensor directly (not dictionary)"
   ]
  },
  {
   "cell_type": "code",
   "execution_count": 9,
   "metadata": {},
   "outputs": [],
   "source": [
    "# Set the device to use as the GPU if there is compatible hardware\n",
    "# Otherwise run the model on the cpu\n",
    "device = torch.device('cuda' if torch.cuda.is_available() else 'cpu')\n",
    "model = MultilabelClassifier(3).to(device)\n"
   ]
  },
  {
   "cell_type": "code",
   "execution_count": 10,
   "metadata": {},
   "outputs": [],
   "source": [
    "def criterion(outputs, pictures):\n",
    "    loss_func = nn.CrossEntropyLoss()\n",
    "    labelsTensor = pictures['class'].to(device).long()  # Ensure label is `long` for CrossEntropyLoss\n",
    "    return loss_func(outputs, labelsTensor)\n"
   ]
  },
  {
   "cell_type": "code",
   "execution_count": 11,
   "metadata": {},
   "outputs": [],
   "source": [
    "def training(model, device, lr_rate, epochs, train_loader):\n",
    "    \"\"\"\n",
    "    Method used by the model for training\n",
    "    :param model: The model to train\n",
    "    :param device: Which device to use for computation, GPU or CPU\n",
    "    :param lr_rate: The learning rate used by the optimizing function\n",
    "    :param epochs: How many epochs to train the model for\n",
    "    :param train_loader: The loader that provides the labeled images in batches\n",
    "    :return: An array containing the losses after each epoch\n",
    "    \"\"\"\n",
    "    num_epochs = epochs\n",
    "    losses = []\n",
    "    checkpoint_losses = []\n",
    "\n",
    "    optimizer = torch.optim.Adam(model.parameters(), lr=lr_rate)\n",
    "    n_total_steps = len(train_loader)\n",
    "\n",
    "    for epoch in range(num_epochs):\n",
    "        for i, pictures in enumerate(train_loader):\n",
    "            images = pictures['image'].to(device)\n",
    "\n",
    "            output = model(images)\n",
    "\n",
    "            loss = criterion(output, pictures)\n",
    "            losses.append(loss.item())\n",
    "\n",
    "            optimizer.zero_grad()\n",
    "            loss.backward()\n",
    "            optimizer.step()\n",
    "\n",
    "            if (i + 1) % (int(n_total_steps / 1)) == 0:\n",
    "                checkpoint_loss = torch.tensor(losses).mean().item()\n",
    "                checkpoint_losses.append(checkpoint_loss)\n",
    "                print(f'Epoch [{epoch + 1}/{num_epochs}], Step [{i + 1}/{n_total_steps}], Loss: {checkpoint_loss:.4f}')\n",
    "\n",
    "    # Snippet used to save the models for inferring during runtime.\n",
    "    model_save_path = r'D:\\COLLEGE_STUDIES\\SEM-6\\ML_NLP_project\\model\\house\\house_model_12.tar'\n",
    "    torch.save({\n",
    "        'model_state_dict': model.state_dict(),\n",
    "        'optimizer_state_dict': optimizer.state_dict(),\n",
    "        'loss': checkpoint_losses,\n",
    "    }, model_save_path)\n",
    "\n",
    "\n",
    "\n",
    "    return checkpoint_losses\n"
   ]
  },
  {
   "cell_type": "code",
   "execution_count": 12,
   "metadata": {},
   "outputs": [
    {
     "name": "stdout",
     "output_type": "stream",
     "text": [
      "Epoch [1/70], Step [107/107], Loss: 0.8364\n",
      "Epoch [2/70], Step [107/107], Loss: 0.7903\n",
      "Epoch [3/70], Step [107/107], Loss: 0.7611\n",
      "Epoch [4/70], Step [107/107], Loss: 0.7266\n",
      "Epoch [5/70], Step [107/107], Loss: 0.7003\n",
      "Epoch [6/70], Step [107/107], Loss: 0.6833\n",
      "Epoch [7/70], Step [107/107], Loss: 0.6612\n",
      "Epoch [8/70], Step [107/107], Loss: 0.6451\n",
      "Epoch [9/70], Step [107/107], Loss: 0.6309\n",
      "Epoch [10/70], Step [107/107], Loss: 0.6097\n",
      "Epoch [11/70], Step [107/107], Loss: 0.5904\n",
      "Epoch [12/70], Step [107/107], Loss: 0.5812\n",
      "Epoch [13/70], Step [107/107], Loss: 0.5683\n",
      "Epoch [14/70], Step [107/107], Loss: 0.5521\n",
      "Epoch [15/70], Step [107/107], Loss: 0.5375\n",
      "Epoch [16/70], Step [107/107], Loss: 0.5243\n",
      "Epoch [17/70], Step [107/107], Loss: 0.5116\n",
      "Epoch [18/70], Step [107/107], Loss: 0.4985\n",
      "Epoch [19/70], Step [107/107], Loss: 0.4876\n",
      "Epoch [20/70], Step [107/107], Loss: 0.4751\n",
      "Epoch [21/70], Step [107/107], Loss: 0.4629\n",
      "Epoch [22/70], Step [107/107], Loss: 0.4510\n",
      "Epoch [23/70], Step [107/107], Loss: 0.4401\n",
      "Epoch [24/70], Step [107/107], Loss: 0.4297\n",
      "Epoch [25/70], Step [107/107], Loss: 0.4200\n",
      "Epoch [26/70], Step [107/107], Loss: 0.4104\n",
      "Epoch [27/70], Step [107/107], Loss: 0.4011\n",
      "Epoch [28/70], Step [107/107], Loss: 0.3938\n",
      "Epoch [29/70], Step [107/107], Loss: 0.3849\n",
      "Epoch [30/70], Step [107/107], Loss: 0.3780\n",
      "Epoch [31/70], Step [107/107], Loss: 0.3716\n",
      "Epoch [32/70], Step [107/107], Loss: 0.3639\n",
      "Epoch [33/70], Step [107/107], Loss: 0.3577\n",
      "Epoch [34/70], Step [107/107], Loss: 0.3514\n",
      "Epoch [35/70], Step [107/107], Loss: 0.3443\n",
      "Epoch [36/70], Step [107/107], Loss: 0.3369\n",
      "Epoch [37/70], Step [107/107], Loss: 0.3298\n",
      "Epoch [38/70], Step [107/107], Loss: 0.3230\n",
      "Epoch [39/70], Step [107/107], Loss: 0.3168\n",
      "Epoch [40/70], Step [107/107], Loss: 0.3112\n",
      "Epoch [41/70], Step [107/107], Loss: 0.3053\n",
      "Epoch [42/70], Step [107/107], Loss: 0.2997\n",
      "Epoch [43/70], Step [107/107], Loss: 0.2954\n",
      "Epoch [44/70], Step [107/107], Loss: 0.2899\n",
      "Epoch [45/70], Step [107/107], Loss: 0.2850\n",
      "Epoch [46/70], Step [107/107], Loss: 0.2803\n",
      "Epoch [47/70], Step [107/107], Loss: 0.2762\n",
      "Epoch [48/70], Step [107/107], Loss: 0.2726\n",
      "Epoch [49/70], Step [107/107], Loss: 0.2676\n",
      "Epoch [50/70], Step [107/107], Loss: 0.2630\n",
      "Epoch [51/70], Step [107/107], Loss: 0.2583\n",
      "Epoch [52/70], Step [107/107], Loss: 0.2542\n",
      "Epoch [53/70], Step [107/107], Loss: 0.2506\n",
      "Epoch [54/70], Step [107/107], Loss: 0.2468\n",
      "Epoch [55/70], Step [107/107], Loss: 0.2428\n",
      "Epoch [56/70], Step [107/107], Loss: 0.2391\n",
      "Epoch [57/70], Step [107/107], Loss: 0.2354\n",
      "Epoch [58/70], Step [107/107], Loss: 0.2320\n",
      "Epoch [59/70], Step [107/107], Loss: 0.2285\n",
      "Epoch [60/70], Step [107/107], Loss: 0.2250\n",
      "Epoch [61/70], Step [107/107], Loss: 0.2217\n",
      "Epoch [62/70], Step [107/107], Loss: 0.2186\n",
      "Epoch [63/70], Step [107/107], Loss: 0.2157\n",
      "Epoch [64/70], Step [107/107], Loss: 0.2131\n",
      "Epoch [65/70], Step [107/107], Loss: 0.2112\n",
      "Epoch [66/70], Step [107/107], Loss: 0.2087\n",
      "Epoch [67/70], Step [107/107], Loss: 0.2059\n",
      "Epoch [68/70], Step [107/107], Loss: 0.2031\n",
      "Epoch [69/70], Step [107/107], Loss: 0.2003\n",
      "Epoch [70/70], Step [107/107], Loss: 0.1982\n"
     ]
    }
   ],
   "source": [
    "# Call the method to train the model\n",
    "checkpoint_losses = training(model, device, 0.0001, 70, train_loader)\n"
   ]
  },
  {
   "cell_type": "markdown",
   "metadata": {},
   "source": []
  },
  {
   "cell_type": "code",
   "execution_count": 13,
   "metadata": {},
   "outputs": [
    {
     "data": {
      "image/png": "[encoded data removed]",
      "text/plain": [
       "<Figure size 640x480 with 1 Axes>"
      ]
     },
     "metadata": {},
     "output_type": "display_data"
    }
   ],
   "source": [
    "plt.plot(checkpoint_losses, linestyle='-', color='b', label='Training Loss')\n",
    "plt.xlabel('Epochs')\n",
    "plt.ylabel('Loss')\n",
    "plt.title('Training Loss Curve')\n",
    "plt.legend()\n",
    "plt.grid(True)\n",
    "plt.show()"
   ]
  },
  {
   "cell_type": "code",
   "execution_count": 14,
   "metadata": {},
   "outputs": [],
   "source": [
    "import torch\n",
    "\n",
    "def validation(model, dataloader, device):\n",
    "    \"\"\"\n",
    "    Validates the model after training.\n",
    "\n",
    "    :param model: The trained model.\n",
    "    :param dataloader: Dataloader providing labeled images in batches.\n",
    "    :param device: Device (CPU or GPU) for computation.\n",
    "    :return: Model accuracy in percentage.\n",
    "    \"\"\"\n",
    "    model.eval()  # Set model to evaluation mode\n",
    "    n_correct = 0\n",
    "    n_samples = 0\n",
    "\n",
    "    with torch.no_grad():  # Disable gradient calculations for efficiency\n",
    "        for pictures in dataloader:\n",
    "            images, labels = pictures['image'].to(device), pictures['class'].to(device)\n",
    "\n",
    "            outputs = model(images)  # Directly get model output\n",
    "            _, predicted = torch.max(outputs, 1)  # Get highest probability class\n",
    "\n",
    "            n_correct += (predicted == labels).sum().item()\n",
    "            n_samples += labels.size(0)\n",
    "\n",
    "    acc = 100.0 * n_correct / n_samples if n_samples > 0 else 0.0  # Avoid division by zero\n",
    "    print(f\"Validation Accuracy: {acc:.2f}%\")\n",
    "\n",
    "    return acc\n",
    "\n"
   ]
  },
  {
   "cell_type": "code",
   "execution_count": 15,
   "metadata": {},
   "outputs": [
    {
     "name": "stdout",
     "output_type": "stream",
     "text": [
      "Validation Accuracy: 91.67%\n"
     ]
    }
   ],
   "source": [
    "# Ensure model is on correct device\n",
    "device = torch.device(\"cuda\" if torch.cuda.is_available() else \"cpu\")\n",
    "model.to(device)\n",
    "\n",
    "# Run validation\n",
    "accuracy = validation(model, test_loader, device)\n"
   ]
  },
  {
   "cell_type": "code",
   "execution_count": null,
   "metadata": {},
   "outputs": [],
   "source": []
  }
 ],
 "metadata": {
  "kernelspec": {
   "display_name": "Python 3",
   "language": "python",
   "name": "python3"
  },
  "language_info": {
   "codemirror_mode": {
    "name": "ipython",
    "version": 3
   },
   "file_extension": ".py",
   "mimetype": "text/x-python",
   "name": "python",
   "nbconvert_exporter": "python",
   "pygments_lexer": "ipython3",
   "version": "3.10.0"
  }
 },
 "nbformat": 4,
 "nbformat_minor": 2
}
